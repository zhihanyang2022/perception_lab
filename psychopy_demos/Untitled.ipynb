{
 "cells": [
  {
   "cell_type": "markdown",
   "metadata": {},
   "source": [
    "# Mimic `data.TrialHandler`"
   ]
  },
  {
   "cell_type": "code",
   "execution_count": 2,
   "metadata": {
    "ExecuteTime": {
     "end_time": "2020-02-11T23:12:05.591699Z",
     "start_time": "2020-02-11T23:12:04.350225Z"
    }
   },
   "outputs": [],
   "source": [
    "import numpy as np"
   ]
  },
  {
   "cell_type": "code",
   "execution_count": 7,
   "metadata": {
    "ExecuteTime": {
     "end_time": "2020-02-11T23:13:35.903187Z",
     "start_time": "2020-02-11T23:13:35.889862Z"
    }
   },
   "outputs": [],
   "source": [
    "def _makeIndices(inputArray):\n",
    "    \"\"\"\n",
    "    Creates an array of tuples the same shape as the input array\n",
    "    where each tuple contains the indices to itself in the array.\n",
    "\n",
    "    Useful for shuffling and then using as a reference.\n",
    "    \"\"\"\n",
    "    # make sure its an array of objects (can be strings etc)\n",
    "    inputArray = np.asarray(inputArray, 'O')\n",
    "    \n",
    "    # get some simple variables for later\n",
    "    dims = inputArray.shape  # shape of inputArray\n",
    "    dimsProd = np.product(dims)  # number of items\n",
    "    dimsN = len(dims)  # number of axes / dimensions\n",
    "    dimsList = list(range(dimsN))  # [0, 1, ..., dimsN - 1]\n",
    "    \n",
    "    # this creates space for an array of any objects\n",
    "    arrayOfTuples = np.ones(dimsProd, 'O')\n",
    "\n",
    "    # for each dimension create list of its indices (using modulo)\n",
    "    listOfLists = []\n",
    "    for thisDim in dimsList:  \n",
    "        prevDimsProd = np.product(dims[:thisDim])  # ??\n",
    "        thisDimVals = np.arange(dimsProd) / prevDimsProd % dims[thisDim]\n",
    "        listOfLists.append(thisDimVals)\n",
    "\n",
    "    # convert to array\n",
    "    indexArr = np.asarray(listOfLists)\n",
    "    for n in range(dimsProd):\n",
    "        arrayOfTuples[n] = tuple((indexArr[:, n]))\n",
    "    return (np.reshape(arrayOfTuples, dims)).tolist()"
   ]
  },
  {
   "cell_type": "code",
   "execution_count": 78,
   "metadata": {
    "ExecuteTime": {
     "end_time": "2020-02-11T23:39:34.722441Z",
     "start_time": "2020-02-11T23:39:34.717420Z"
    }
   },
   "outputs": [],
   "source": [
    "trialList = [{'condition':'a'}, {'condition':'b'}, {'condition':'c'}]"
   ]
  },
  {
   "cell_type": "code",
   "execution_count": 79,
   "metadata": {
    "ExecuteTime": {
     "end_time": "2020-02-11T23:39:34.875228Z",
     "start_time": "2020-02-11T23:39:34.868001Z"
    }
   },
   "outputs": [],
   "source": [
    "indices = _makeIndices(trialList)"
   ]
  },
  {
   "cell_type": "markdown",
   "metadata": {},
   "source": [
    "## Mimic `_createSequence`"
   ]
  },
  {
   "cell_type": "code",
   "execution_count": 80,
   "metadata": {
    "ExecuteTime": {
     "end_time": "2020-02-11T23:39:35.179159Z",
     "start_time": "2020-02-11T23:39:35.167610Z"
    }
   },
   "outputs": [],
   "source": [
    "def shuffleArray(array, seed):\n",
    "    array_to_shuffle = array.copy()\n",
    "    np.random.seed(seed)\n",
    "    np.random.shuffle(array_to_shuffle)\n",
    "    return array_to_shuffle"
   ]
  },
  {
   "cell_type": "code",
   "execution_count": 81,
   "metadata": {
    "ExecuteTime": {
     "end_time": "2020-02-11T23:39:35.297264Z",
     "start_time": "2020-02-11T23:39:35.292540Z"
    }
   },
   "outputs": [],
   "source": [
    "method = 'random'\n",
    "nReps = 5\n",
    "seed = 42"
   ]
  },
  {
   "cell_type": "code",
   "execution_count": 82,
   "metadata": {
    "ExecuteTime": {
     "end_time": "2020-02-11T23:39:35.450439Z",
     "start_time": "2020-02-11T23:39:35.432304Z"
    }
   },
   "outputs": [],
   "source": [
    "indices = np.asarray(indices, dtype=int)\n",
    "\n",
    "if method == 'random':\n",
    "    sequenceIndices = []\n",
    "    for thisRep in range(nReps):\n",
    "        thisRepSeq = shuffleArray(indices.flat, seed=seed).tolist()\n",
    "        seed = None  # so that we only seed the first pass through!\n",
    "        sequenceIndices.append(thisRepSeq)\n",
    "    sequenceIndices = np.transpose(sequenceIndices)\n",
    "\n",
    "elif method == 'sequential':\n",
    "    sequenceIndices = np.repeat(indices, self.nReps, 1)\n",
    "\n",
    "elif method == 'fullRandom':\n",
    "    # indices*nReps, flatten, shuffle, unflatten; only use seed once\n",
    "    sequential = np.repeat(indices, self.nReps, 1)  # = sequential\n",
    "    randomFlat = shuffleArray(sequential.flat, seed=self.seed)\n",
    "    sequenceIndices = np.reshape(\n",
    "        randomFlat, (len(indices), self.nReps))"
   ]
  },
  {
   "cell_type": "code",
   "execution_count": 83,
   "metadata": {
    "ExecuteTime": {
     "end_time": "2020-02-11T23:39:35.577938Z",
     "start_time": "2020-02-11T23:39:35.568609Z"
    }
   },
   "outputs": [
    {
     "data": {
      "text/plain": [
       "array([[0, 0, 0, 2, 2],\n",
       "       [1, 1, 2, 0, 1],\n",
       "       [2, 2, 1, 1, 0]])"
      ]
     },
     "execution_count": 83,
     "metadata": {},
     "output_type": "execute_result"
    }
   ],
   "source": [
    "sequenceIndices"
   ]
  },
  {
   "cell_type": "markdown",
   "metadata": {},
   "source": [
    "## Mimic `__next__`"
   ]
  },
  {
   "cell_type": "code",
   "execution_count": 84,
   "metadata": {
    "ExecuteTime": {
     "end_time": "2020-02-11T23:39:36.179494Z",
     "start_time": "2020-02-11T23:39:36.167632Z"
    }
   },
   "outputs": [
    {
     "name": "stdout",
     "output_type": "stream",
     "text": [
      "{'condition': 'a'}\n",
      "{'condition': 'b'}\n",
      "{'condition': 'c'}\n",
      "==========\n",
      "{'condition': 'a'}\n",
      "{'condition': 'b'}\n",
      "{'condition': 'c'}\n",
      "==========\n",
      "{'condition': 'a'}\n",
      "{'condition': 'c'}\n",
      "{'condition': 'b'}\n",
      "==========\n",
      "{'condition': 'c'}\n",
      "{'condition': 'a'}\n",
      "{'condition': 'b'}\n",
      "==========\n",
      "{'condition': 'c'}\n",
      "{'condition': 'b'}\n",
      "{'condition': 'a'}\n",
      "==========\n"
     ]
    }
   ],
   "source": [
    "thisTrialN = 0\n",
    "thisRepN = 0\n",
    "\n",
    "finished = False\n",
    "while True:\n",
    "    \n",
    "    if thisTrialN == len(trialList):\n",
    "        # start a new repetition\n",
    "        thisTrialN = 0\n",
    "        thisRepN += 1\n",
    "        print('==========')\n",
    "        \n",
    "    if thisRepN >= nReps:\n",
    "        # all reps complete\n",
    "        finished = True\n",
    "\n",
    "    if finished == True:\n",
    "        break\n",
    "\n",
    "    thisIndex = sequenceIndices[thisTrialN][thisRepN]\n",
    "    thisTrial = trialList[thisIndex]\n",
    "    \n",
    "    print(thisTrial)\n",
    "    \n",
    "    thisTrialN += 1"
   ]
  },
  {
   "cell_type": "code",
   "execution_count": null,
   "metadata": {},
   "outputs": [],
   "source": []
  }
 ],
 "metadata": {
  "kernelspec": {
   "display_name": "Python 3",
   "language": "python",
   "name": "python3"
  },
  "language_info": {
   "codemirror_mode": {
    "name": "ipython",
    "version": 3
   },
   "file_extension": ".py",
   "mimetype": "text/x-python",
   "name": "python",
   "nbconvert_exporter": "python",
   "pygments_lexer": "ipython3",
   "version": "3.6.9"
  },
  "toc": {
   "base_numbering": 1,
   "nav_menu": {},
   "number_sections": false,
   "sideBar": true,
   "skip_h1_title": false,
   "title_cell": "Table of Contents",
   "title_sidebar": "Contents",
   "toc_cell": false,
   "toc_position": {},
   "toc_section_display": true,
   "toc_window_display": false
  }
 },
 "nbformat": 4,
 "nbformat_minor": 2
}
