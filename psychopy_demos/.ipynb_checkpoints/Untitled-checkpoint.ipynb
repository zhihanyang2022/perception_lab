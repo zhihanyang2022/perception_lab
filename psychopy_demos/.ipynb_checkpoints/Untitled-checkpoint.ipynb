{
 "cells": [
  {
   "cell_type": "markdown",
   "metadata": {},
   "source": [
    "# Mimic `data.TrialHandler`"
   ]
  },
  {
   "cell_type": "code",
   "execution_count": 2,
   "metadata": {
    "ExecuteTime": {
     "end_time": "2020-02-11T23:12:05.591699Z",
     "start_time": "2020-02-11T23:12:04.350225Z"
    }
   },
   "outputs": [],
   "source": [
    "import numpy as np"
   ]
  },
  {
   "cell_type": "code",
   "execution_count": 7,
   "metadata": {
    "ExecuteTime": {
     "end_time": "2020-02-11T23:13:35.903187Z",
     "start_time": "2020-02-11T23:13:35.889862Z"
    }
   },
   "outputs": [],
   "source": [
    "def _makeIndices(inputArray):\n",
    "    \"\"\"\n",
    "    Creates an array of tuples the same shape as the input array\n",
    "    where each tuple contains the indices to itself in the array.\n",
    "\n",
    "    Useful for shuffling and then using as a reference.\n",
    "    \"\"\"\n",
    "    # make sure its an array of objects (can be strings etc)\n",
    "    inputArray = np.asarray(inputArray, 'O')\n",
    "    \n",
    "    # get some simple variables for later\n",
    "    dims = inputArray.shape  # shape of inputArray\n",
    "    dimsProd = np.product(dims)  # number of items\n",
    "    dimsN = len(dims)  # number of axes / dimensions\n",
    "    dimsList = list(range(dimsN))  # [0, 1, ..., dimsN - 1]\n",
    "    \n",
    "    # this creates space for an array of any objects\n",
    "    arrayOfTuples = np.ones(dimsProd, 'O')\n",
    "\n",
    "    # for each dimension create list of its indices (using modulo)\n",
    "    listOfLists = []\n",
    "    for thisDim in dimsList:  \n",
    "        prevDimsProd = np.product(dims[:thisDim])  # ??\n",
    "        thisDimVals = np.arange(dimsProd) / prevDimsProd % dims[thisDim]\n",
    "        listOfLists.append(thisDimVals)\n",
    "\n",
    "    # convert to array\n",
    "    indexArr = np.asarray(listOfLists)\n",
    "    for n in range(dimsProd):\n",
    "        arrayOfTuples[n] = tuple((indexArr[:, n]))\n",
    "    return (np.reshape(arrayOfTuples, dims)).tolist()"
   ]
  },
  {
   "cell_type": "code",
   "execution_count": 71,
   "metadata": {
    "ExecuteTime": {
     "end_time": "2020-02-11T23:36:02.983371Z",
     "start_time": "2020-02-11T23:36:02.980065Z"
    }
   },
   "outputs": [],
   "source": [
    "trialList = [{'condition':'a'}, {'condition':'b'}, {'condition':'c'}]"
   ]
  },
  {
   "cell_type": "code",
   "execution_count": 72,
   "metadata": {
    "ExecuteTime": {
     "end_time": "2020-02-11T23:36:03.209623Z",
     "start_time": "2020-02-11T23:36:03.206075Z"
    }
   },
   "outputs": [],
   "source": [
    "indices = _makeIndices(trialList)"
   ]
  },
  {
   "cell_type": "markdown",
   "metadata": {},
   "source": [
    "## Mimic `_createSequence`"
   ]
  },
  {
   "cell_type": "code",
   "execution_count": 73,
   "metadata": {
    "ExecuteTime": {
     "end_time": "2020-02-11T23:36:03.520846Z",
     "start_time": "2020-02-11T23:36:03.516707Z"
    }
   },
   "outputs": [],
   "source": [
    "def shuffleArray(array, seed):\n",
    "    array_to_shuffle = array.copy()\n",
    "    np.random.seed(seed)\n",
    "    np.random.shuffle(array_to_shuffle)\n",
    "    return array_to_shuffle"
   ]
  },
  {
   "cell_type": "code",
   "execution_count": 74,
   "metadata": {
    "ExecuteTime": {
     "end_time": "2020-02-11T23:36:03.663588Z",
     "start_time": "2020-02-11T23:36:03.658275Z"
    }
   },
   "outputs": [],
   "source": [
    "method = 'random'\n",
    "nReps = 5\n",
    "seed = 42"
   ]
  },
  {
   "cell_type": "code",
   "execution_count": 75,
   "metadata": {
    "ExecuteTime": {
     "end_time": "2020-02-11T23:36:03.825014Z",
     "start_time": "2020-02-11T23:36:03.807449Z"
    }
   },
   "outputs": [],
   "source": [
    "indices = np.asarray(indices, dtype=int)\n",
    "\n",
    "if method == 'random':\n",
    "    sequenceIndices = []\n",
    "    for thisRep in range(nReps):\n",
    "        thisRepSeq = shuffleArray(indices.flat, seed=seed).tolist()\n",
    "        seed = None  # so that we only seed the first pass through!\n",
    "        sequenceIndices.append(thisRepSeq)\n",
    "    sequenceIndices = np.transpose(sequenceIndices)\n",
    "\n",
    "elif method == 'sequential':\n",
    "    sequenceIndices = np.repeat(indices, self.nReps, 1)\n",
    "\n",
    "elif method == 'fullRandom':\n",
    "    # indices*nReps, flatten, shuffle, unflatten; only use seed once\n",
    "    sequential = np.repeat(indices, self.nReps, 1)  # = sequential\n",
    "    randomFlat = shuffleArray(sequential.flat, seed=self.seed)\n",
    "    sequenceIndices = np.reshape(\n",
    "        randomFlat, (len(indices), self.nReps))"
   ]
  },
  {
   "cell_type": "code",
   "execution_count": 76,
   "metadata": {
    "ExecuteTime": {
     "end_time": "2020-02-11T23:36:03.977432Z",
     "start_time": "2020-02-11T23:36:03.970514Z"
    }
   },
   "outputs": [
    {
     "data": {
      "text/plain": [
       "array([[0, 1, 1, 2, 0],\n",
       "       [1, 0, 2, 1, 2],\n",
       "       [2, 2, 0, 0, 1]])"
      ]
     },
     "execution_count": 76,
     "metadata": {},
     "output_type": "execute_result"
    }
   ],
   "source": [
    "sequenceIndices"
   ]
  },
  {
   "cell_type": "markdown",
   "metadata": {},
   "source": [
    "## Mimic `__next__`"
   ]
  },
  {
   "cell_type": "code",
   "execution_count": 77,
   "metadata": {
    "ExecuteTime": {
     "end_time": "2020-02-11T23:36:04.477299Z",
     "start_time": "2020-02-11T23:36:04.466476Z"
    }
   },
   "outputs": [
    {
     "name": "stdout",
     "output_type": "stream",
     "text": [
      "1st object\n",
      "2nd object\n",
      "3rd object\n",
      "==========\n",
      "2nd object\n",
      "1st object\n",
      "3rd object\n",
      "==========\n",
      "2nd object\n",
      "3rd object\n",
      "1st object\n",
      "==========\n",
      "3rd object\n",
      "2nd object\n",
      "1st object\n",
      "==========\n",
      "1st object\n",
      "3rd object\n",
      "2nd object\n",
      "==========\n"
     ]
    }
   ],
   "source": [
    "thisTrialN = 0\n",
    "thisRepN = 0\n",
    "\n",
    "finished = False\n",
    "while True:\n",
    "    \n",
    "    if thisTrialN == len(trialList):\n",
    "        # start a new repetition\n",
    "        thisTrialN = 0\n",
    "        thisRepN += 1\n",
    "        print('==========')\n",
    "        \n",
    "    if thisRepN >= nReps:\n",
    "        # all reps complete\n",
    "        finished = True\n",
    "\n",
    "    if finished == True:\n",
    "        break\n",
    "\n",
    "    thisIndex = sequenceIndices[thisTrialN][thisRepN]\n",
    "    thisTrial = trialList[thisIndex]\n",
    "    \n",
    "    print(thisTrial)\n",
    "    \n",
    "    thisTrialN += 1"
   ]
  },
  {
   "cell_type": "code",
   "execution_count": null,
   "metadata": {},
   "outputs": [],
   "source": []
  }
 ],
 "metadata": {
  "kernelspec": {
   "display_name": "Python 3",
   "language": "python",
   "name": "python3"
  },
  "language_info": {
   "codemirror_mode": {
    "name": "ipython",
    "version": 3
   },
   "file_extension": ".py",
   "mimetype": "text/x-python",
   "name": "python",
   "nbconvert_exporter": "python",
   "pygments_lexer": "ipython3",
   "version": "3.6.9"
  },
  "toc": {
   "base_numbering": 1,
   "nav_menu": {},
   "number_sections": false,
   "sideBar": true,
   "skip_h1_title": false,
   "title_cell": "Table of Contents",
   "title_sidebar": "Contents",
   "toc_cell": false,
   "toc_position": {},
   "toc_section_display": true,
   "toc_window_display": false
  }
 },
 "nbformat": 4,
 "nbformat_minor": 2
}
