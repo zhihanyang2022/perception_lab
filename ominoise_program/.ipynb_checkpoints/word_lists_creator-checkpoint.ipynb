{
 "cells": [
  {
   "cell_type": "markdown",
   "metadata": {},
   "source": [
    "# Ominoise Prep: Word Lists Generation"
   ]
  },
  {
   "cell_type": "code",
   "execution_count": 13,
   "metadata": {
    "ExecuteTime": {
     "end_time": "2020-02-15T22:01:21.491102Z",
     "start_time": "2020-02-15T22:01:21.487648Z"
    }
   },
   "outputs": [],
   "source": [
    "import numpy as np\n",
    "import csv"
   ]
  },
  {
   "cell_type": "markdown",
   "metadata": {},
   "source": [
    "### Parameters"
   ]
  },
  {
   "cell_type": "code",
   "execution_count": 14,
   "metadata": {
    "ExecuteTime": {
     "end_time": "2020-02-15T22:01:22.041770Z",
     "start_time": "2020-02-15T22:01:22.037493Z"
    }
   },
   "outputs": [],
   "source": [
    "WORDS_FPATH = './word_list.txt'  # from https://www.mit.edu/~ecprice/wordlist.10000\n",
    "LIST_MAX_LEN = 12\n",
    "LIST_MIN_LEN = 5\n",
    "NUM_LISTS = 32"
   ]
  },
  {
   "cell_type": "markdown",
   "metadata": {},
   "source": [
    "### Read words for a txt file"
   ]
  },
  {
   "cell_type": "code",
   "execution_count": 15,
   "metadata": {
    "ExecuteTime": {
     "end_time": "2020-02-15T22:01:23.850166Z",
     "start_time": "2020-02-15T22:01:23.836354Z"
    }
   },
   "outputs": [],
   "source": [
    "with open(WORDS_FPATH, 'r') as txt_f:\n",
    "    lines = txt_f.readlines()\n",
    "    words = [l.rstrip() for l in lines]"
   ]
  },
  {
   "cell_type": "markdown",
   "metadata": {},
   "source": [
    "### Randomly generated 32 list lengths"
   ]
  },
  {
   "cell_type": "code",
   "execution_count": 16,
   "metadata": {
    "ExecuteTime": {
     "end_time": "2020-02-15T22:01:25.415753Z",
     "start_time": "2020-02-15T22:01:25.402471Z"
    }
   },
   "outputs": [],
   "source": [
    "np.random.seed(42)\n",
    "list_lens = np.random.randint(LIST_MIN_LEN, LIST_MAX_LEN, size=32)"
   ]
  },
  {
   "cell_type": "markdown",
   "metadata": {},
   "source": [
    "### Randomly shuffle words"
   ]
  },
  {
   "cell_type": "code",
   "execution_count": 17,
   "metadata": {
    "ExecuteTime": {
     "end_time": "2020-02-15T22:01:26.167730Z",
     "start_time": "2020-02-15T22:01:26.161444Z"
    }
   },
   "outputs": [],
   "source": [
    "def not_inplace_shuffle(array):\n",
    "    array = array.copy()\n",
    "    np.random.seed(42)\n",
    "    np.random.shuffle(array)\n",
    "    return array"
   ]
  },
  {
   "cell_type": "code",
   "execution_count": 18,
   "metadata": {
    "ExecuteTime": {
     "end_time": "2020-02-15T22:01:27.068614Z",
     "start_time": "2020-02-15T22:01:27.061435Z"
    }
   },
   "outputs": [],
   "source": [
    "shuffled_words = not_inplace_shuffle(words)"
   ]
  },
  {
   "cell_type": "markdown",
   "metadata": {},
   "source": [
    "### Use 32 list lengths and shuffled words to generated 32 non-overlapping word lists"
   ]
  },
  {
   "cell_type": "code",
   "execution_count": 19,
   "metadata": {
    "ExecuteTime": {
     "end_time": "2020-02-15T22:01:29.126576Z",
     "start_time": "2020-02-15T22:01:29.114454Z"
    }
   },
   "outputs": [],
   "source": [
    "sets_of_lists = []\n",
    "start_idx = 0\n",
    "for list_len in list_lens:\n",
    "    sets_of_lists.append(shuffled_words[start_idx : start_idx + list_len])\n",
    "    start_idx += list_len"
   ]
  },
  {
   "cell_type": "code",
   "execution_count": 8,
   "metadata": {
    "ExecuteTime": {
     "end_time": "2020-02-15T21:55:33.357966Z",
     "start_time": "2020-02-15T21:55:33.354291Z"
    }
   },
   "outputs": [],
   "source": [
    "# Pseudo-code:\n",
    "# - For each noise condition (out of 4):\n",
    "#     - For each list (out of 8):\n",
    "#         - For each word (out of 5~12):\n",
    "#             - Show the word\n",
    "#         - Recall"
   ]
  },
  {
   "cell_type": "markdown",
   "metadata": {},
   "source": [
    "### Write CSVs"
   ]
  },
  {
   "cell_type": "markdown",
   "metadata": {},
   "source": [
    "First, write `noise_conditions.csv`."
   ]
  },
  {
   "cell_type": "code",
   "execution_count": 30,
   "metadata": {
    "ExecuteTime": {
     "end_time": "2020-02-15T22:17:04.483061Z",
     "start_time": "2020-02-15T22:17:04.476107Z"
    }
   },
   "outputs": [],
   "source": [
    "conditions = ['1', '2', '3', '4']\n",
    "with open('./csvs/noise_conditions.csv', 'w+') as csv_f:\n",
    "    csv_writer = csv.writer(csv_f)\n",
    "    csv_writer.writerow(['condition'])\n",
    "    for c in conditions:\n",
    "        csv_writer.writerow([c])"
   ]
  },
  {
   "cell_type": "code",
   "execution_count": 27,
   "metadata": {
    "ExecuteTime": {
     "end_time": "2020-02-15T22:04:08.665598Z",
     "start_time": "2020-02-15T22:04:08.595811Z"
    }
   },
   "outputs": [],
   "source": [
    "for i, list_of_word in enumerate(sets_of_lists):\n",
    "    with open('./csvs/{}.csv'.format(i+1), 'w+') as csv_f:\n",
    "        csv_writer = csv.writer(csv_f)\n",
    "        csv_writer.writerow(['word'])\n",
    "        for w in list_of_word:\n",
    "            csv_writer.writerow([w])"
   ]
  },
  {
   "cell_type": "markdown",
   "metadata": {},
   "source": [
    "### Python script for randomly assigning 32 lists (their indicies) to 4 conditions\n",
    "- Save the 32 word lists first"
   ]
  },
  {
   "cell_type": "code",
   "execution_count": 10,
   "metadata": {
    "ExecuteTime": {
     "end_time": "2020-02-15T22:00:54.310613Z",
     "start_time": "2020-02-15T22:00:54.301478Z"
    }
   },
   "outputs": [],
   "source": [
    "CONDITIONS = ['condition_1', 'condition_2', 'condition_3', 'condition_4']  # must use alphanumerics and underscores\n",
    "NUM_LISTS = 32\n",
    "\n",
    "def random_wlists_indices_assignment():\n",
    "\n",
    "    wlists_indices = np.arange(1, NUM_LISTS+1)\n",
    "    # np.random.seed(42), don't use random seed here; we want each participant to see a different order\n",
    "    wlists_indices_random = np.random.choice(wlists_indices, size=NUM_LISTS, replace=False)\n",
    "    wlists_indices_assignment = np.split(wlists_indices_random, 4)\n",
    "\n",
    "    for i, c in enumerate(CONDITIONS):\n",
    "        with open(f'./csvs/{c}_wlists_indices.csv', 'w') as csv_f:\n",
    "            csv_writer = csv.writer(csv_f)\n",
    "            csv_writer.writerow(['wlist_index'])\n",
    "            for wlists_index in wlists_indices_assignment[i]:\n",
    "                csv_writer.writerow([wlists_index])"
   ]
  },
  {
   "cell_type": "code",
   "execution_count": 12,
   "metadata": {
    "ExecuteTime": {
     "end_time": "2020-02-15T22:01:01.522449Z",
     "start_time": "2020-02-15T22:01:01.475796Z"
    }
   },
   "outputs": [],
   "source": [
    "random_wlists_indices_assignment()"
   ]
  },
  {
   "cell_type": "code",
   "execution_count": null,
   "metadata": {},
   "outputs": [],
   "source": []
  }
 ],
 "metadata": {
  "kernelspec": {
   "display_name": "Python 3",
   "language": "python",
   "name": "python3"
  },
  "language_info": {
   "codemirror_mode": {
    "name": "ipython",
    "version": 3
   },
   "file_extension": ".py",
   "mimetype": "text/x-python",
   "name": "python",
   "nbconvert_exporter": "python",
   "pygments_lexer": "ipython3",
   "version": "3.6.9"
  },
  "toc": {
   "base_numbering": 1,
   "nav_menu": {},
   "number_sections": false,
   "sideBar": true,
   "skip_h1_title": false,
   "title_cell": "Table of Contents",
   "title_sidebar": "Contents",
   "toc_cell": false,
   "toc_position": {},
   "toc_section_display": true,
   "toc_window_display": false
  }
 },
 "nbformat": 4,
 "nbformat_minor": 2
}
