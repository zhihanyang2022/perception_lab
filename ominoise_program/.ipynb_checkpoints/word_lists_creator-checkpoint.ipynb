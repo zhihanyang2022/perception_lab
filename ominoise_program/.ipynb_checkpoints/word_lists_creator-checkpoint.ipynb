{
 "cells": [
  {
   "cell_type": "markdown",
   "metadata": {},
   "source": [
    "# Ominoise Prep: Word Lists Generation"
   ]
  },
  {
   "cell_type": "code",
   "execution_count": 33,
   "metadata": {
    "ExecuteTime": {
     "end_time": "2020-02-04T03:11:18.826561Z",
     "start_time": "2020-02-04T03:11:18.815570Z"
    }
   },
   "outputs": [],
   "source": [
    "import numpy as np\n",
    "import csv"
   ]
  },
  {
   "cell_type": "markdown",
   "metadata": {},
   "source": [
    "### Parameters"
   ]
  },
  {
   "cell_type": "code",
   "execution_count": 11,
   "metadata": {
    "ExecuteTime": {
     "end_time": "2020-02-04T02:38:15.630160Z",
     "start_time": "2020-02-04T02:38:15.626728Z"
    }
   },
   "outputs": [],
   "source": [
    "WORDS_FPATH = './word_list.txt'  # from https://www.mit.edu/~ecprice/wordlist.10000\n",
    "LIST_MAX_LEN = 12\n",
    "LIST_MIN_LEN = 5\n",
    "NUM_LISTS = 32"
   ]
  },
  {
   "cell_type": "markdown",
   "metadata": {},
   "source": [
    "### Read words for a txt file"
   ]
  },
  {
   "cell_type": "code",
   "execution_count": 25,
   "metadata": {
    "ExecuteTime": {
     "end_time": "2020-02-04T02:39:45.521931Z",
     "start_time": "2020-02-04T02:39:45.512221Z"
    }
   },
   "outputs": [],
   "source": [
    "with open(WORDS_FPATH, 'r') as txt_f:\n",
    "    lines = txt_f.readlines()\n",
    "    words = [l.rstrip() for l in lines]"
   ]
  },
  {
   "cell_type": "markdown",
   "metadata": {},
   "source": [
    "### Randomly generated 32 list lengths"
   ]
  },
  {
   "cell_type": "code",
   "execution_count": 26,
   "metadata": {
    "ExecuteTime": {
     "end_time": "2020-02-04T02:39:45.668219Z",
     "start_time": "2020-02-04T02:39:45.661709Z"
    }
   },
   "outputs": [],
   "source": [
    "np.random.seed(42)\n",
    "list_lens = np.random.randint(LIST_MIN_LEN, LIST_MAX_LEN, size=32)"
   ]
  },
  {
   "cell_type": "markdown",
   "metadata": {},
   "source": [
    "### Randomly shuffle words"
   ]
  },
  {
   "cell_type": "code",
   "execution_count": 27,
   "metadata": {
    "ExecuteTime": {
     "end_time": "2020-02-04T02:39:45.931569Z",
     "start_time": "2020-02-04T02:39:45.925574Z"
    }
   },
   "outputs": [],
   "source": [
    "def not_inplace_shuffle(array):\n",
    "    array = array.copy()\n",
    "    np.random.seed(42)\n",
    "    np.random.shuffle(array)\n",
    "    return array"
   ]
  },
  {
   "cell_type": "code",
   "execution_count": 28,
   "metadata": {
    "ExecuteTime": {
     "end_time": "2020-02-04T02:39:46.067920Z",
     "start_time": "2020-02-04T02:39:46.061250Z"
    }
   },
   "outputs": [],
   "source": [
    "shuffled_words = not_inplace_shuffle(words)"
   ]
  },
  {
   "cell_type": "markdown",
   "metadata": {},
   "source": [
    "### Use 32 list lengths and shuffled words to generated 32 non-overlapping word lists"
   ]
  },
  {
   "cell_type": "code",
   "execution_count": 30,
   "metadata": {
    "ExecuteTime": {
     "end_time": "2020-02-04T02:41:16.518023Z",
     "start_time": "2020-02-04T02:41:16.511037Z"
    }
   },
   "outputs": [],
   "source": [
    "sets_of_lists = []\n",
    "start_idx = 0\n",
    "for list_len in list_lens:\n",
    "    sets_of_lists.append(shuffled_words[start_idx : start_idx + list_len])\n",
    "    start_idx += list_len"
   ]
  },
  {
   "cell_type": "code",
   "execution_count": 32,
   "metadata": {
    "ExecuteTime": {
     "end_time": "2020-02-04T02:45:50.023355Z",
     "start_time": "2020-02-04T02:45:50.019582Z"
    }
   },
   "outputs": [],
   "source": [
    "# Pseudo-code:\n",
    "# - For each noise condition (out of 4):\n",
    "#     - For each list (out of 8):\n",
    "#         - For each word (out of 5~12):\n",
    "#             - Show the word\n",
    "#         - Recall"
   ]
  },
  {
   "cell_type": "markdown",
   "metadata": {},
   "source": [
    "### Write CSVs"
   ]
  },
  {
   "cell_type": "markdown",
   "metadata": {},
   "source": [
    "First, write `noise_conditions.csv`."
   ]
  },
  {
   "cell_type": "code",
   "execution_count": 47,
   "metadata": {
    "ExecuteTime": {
     "end_time": "2020-02-04T03:28:51.957716Z",
     "start_time": "2020-02-04T03:28:51.948061Z"
    }
   },
   "outputs": [],
   "source": [
    "conditions = ['condition_1', 'condition_2', 'condition_3', 'condition_4']\n",
    "with open('./csvs/noise_conditions.csv', 'w') as csv_f:\n",
    "    csv_writer = csv.writer(csv_f)\n",
    "    csv_writer.writerow(['condition'])\n",
    "    for c in conditions:\n",
    "        csv_writer.writerow([c])"
   ]
  },
  {
   "cell_type": "markdown",
   "metadata": {},
   "source": [
    "### Python script for randomly assigning 32 lists (their indicies) to 4 conditions\n",
    "- Save the 32 word lists first"
   ]
  },
  {
   "cell_type": "code",
   "execution_count": null,
   "metadata": {},
   "outputs": [],
   "source": []
  },
  {
   "cell_type": "code",
   "execution_count": null,
   "metadata": {},
   "outputs": [],
   "source": []
  },
  {
   "cell_type": "code",
   "execution_count": null,
   "metadata": {},
   "outputs": [],
   "source": []
  }
 ],
 "metadata": {
  "kernelspec": {
   "display_name": "Python 3",
   "language": "python",
   "name": "python3"
  },
  "language_info": {
   "codemirror_mode": {
    "name": "ipython",
    "version": 3
   },
   "file_extension": ".py",
   "mimetype": "text/x-python",
   "name": "python",
   "nbconvert_exporter": "python",
   "pygments_lexer": "ipython3",
   "version": "3.6.9"
  },
  "toc": {
   "base_numbering": 1,
   "nav_menu": {},
   "number_sections": false,
   "sideBar": true,
   "skip_h1_title": false,
   "title_cell": "Table of Contents",
   "title_sidebar": "Contents",
   "toc_cell": false,
   "toc_position": {},
   "toc_section_display": true,
   "toc_window_display": false
  }
 },
 "nbformat": 4,
 "nbformat_minor": 2
}
